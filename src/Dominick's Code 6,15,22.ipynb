{
 "cells": [
  {
   "cell_type": "markdown",
   "id": "7decd2ef",
   "metadata": {},
   "source": [
    "Importing relevant packages"
   ]
  },
  {
   "cell_type": "code",
   "execution_count": 2,
   "id": "73a50d80",
   "metadata": {},
   "outputs": [],
   "source": [
    "import matplotlib.pyplot as plt\n",
    "import pandas as pd"
   ]
  },
  {
   "cell_type": "markdown",
   "id": "07fcfdf7",
   "metadata": {},
   "source": [
    "Loading data and verifying loading success"
   ]
  },
  {
   "cell_type": "code",
   "execution_count": 3,
   "id": "4c713cf3",
   "metadata": {},
   "outputs": [],
   "source": [
    "cpu_data = pd.read_csv(\"C:/Users/Dom/Desktop/edu/MSDS/orientation/histogram/cpu_data.csv\")\n",
    "#print(cpu_data)"
   ]
  },
  {
   "cell_type": "markdown",
   "id": "be319b3c",
   "metadata": {},
   "source": [
    "Viewing all columns to ensure the data has been correctly uploaded"
   ]
  },
  {
   "cell_type": "code",
   "execution_count": null,
   "id": "730d0fe4",
   "metadata": {},
   "outputs": [],
   "source": [
    "#pd.options.display.max_columns = None\n",
    "#print(cpu_data.head)"
   ]
  },
  {
   "cell_type": "markdown",
   "id": "b5f8da1a",
   "metadata": {},
   "source": [
    "Weird plot"
   ]
  },
  {
   "cell_type": "code",
   "execution_count": 4,
   "id": "91556bd4",
   "metadata": {},
   "outputs": [
    {
     "data": {
      "text/plain": [
       "(array([[62.,  0.,  0.,  0.,  0.,  0.,  0.,  0.,  0.,  0.],\n",
       "        [62.,  0.,  0.,  0.,  0.,  0.,  0.,  0.,  0.,  0.],\n",
       "        [62.,  0.,  0.,  0.,  0.,  0.,  0.,  0.,  0.,  0.],\n",
       "        [62.,  0.,  0.,  0.,  0.,  0.,  0.,  0.,  0.,  0.],\n",
       "        [62.,  0.,  0.,  0.,  0.,  0.,  0.,  0.,  0.,  0.],\n",
       "        [62.,  0.,  0.,  0.,  0.,  0.,  0.,  0.,  0.,  0.],\n",
       "        [62.,  0.,  0.,  0.,  0.,  0.,  0.,  0.,  0.,  0.],\n",
       "        [61.,  0.,  0.,  0.,  0.,  0.,  0.,  0.,  0.,  1.]]),\n",
       " array([-3.0, 600225.6, 1200454.2, 1800682.7999999998, 2400911.4,\n",
       "        3001140.0, 3601368.5999999996, 4201597.2, 4801825.8,\n",
       "        5402054.399999999, 6002283.0], dtype=object),\n",
       " <a list of 8 BarContainer objects>)"
      ]
     },
     "execution_count": 4,
     "metadata": {},
     "output_type": "execute_result"
    },
    {
     "data": {
      "image/png": "[encoded data removed]",
      "text/plain": [
       "<Figure size 432x288 with 1 Axes>"
      ]
     },
     "metadata": {
      "needs_background": "light"
     },
     "output_type": "display_data"
    }
   ],
   "source": [
    "plt.hist(cpu_data)"
   ]
  },
  {
   "cell_type": "markdown",
   "id": "78dddd61",
   "metadata": {},
   "source": [
    "Histogram of each column of the dataset"
   ]
  },
  {
   "cell_type": "code",
   "execution_count": 6,
   "id": "f29a2fd5",
   "metadata": {},
   "outputs": [
    {
     "data": {
      "text/plain": [
       "array([[<AxesSubplot:title={'center':'CPU Cycle Rate (in GHz)'}>,\n",
       "        <AxesSubplot:title={'center':'CPU Number of Cores (int)'}>],\n",
       "       [<AxesSubplot:title={'center':'RAM (in GB)'}>,\n",
       "        <AxesSubplot:title={'center':'Hard Drive Size (in GB)'}>],\n",
       "       [<AxesSubplot:title={'center':'GPU CUDA Number of Cores (int)'}>,\n",
       "        <AxesSubplot:>]], dtype=object)"
      ]
     },
     "execution_count": 6,
     "metadata": {},
     "output_type": "execute_result"
    },
    {
     "data": {
      "image/png": "[encoded data removed]",
      "text/plain": [
       "<Figure size 432x288 with 6 Axes>"
      ]
     },
     "metadata": {
      "needs_background": "light"
     },
     "output_type": "display_data"
    }
   ],
   "source": [
    "cpu_data.hist()"
   ]
  },
  {
   "cell_type": "markdown",
   "id": "164c7e7c",
   "metadata": {},
   "source": [
    "Pretty plot :)"
   ]
  },
  {
   "cell_type": "code",
   "execution_count": 7,
   "id": "a24846cd",
   "metadata": {},
   "outputs": [
    {
     "data": {
      "text/plain": [
       "Text(0, 0.5, 'Count')"
      ]
     },
     "execution_count": 7,
     "metadata": {},
     "output_type": "execute_result"
    },
    {
     "data": {
      "image/png": "[encoded data removed]",
      "text/plain": [
       "<Figure size 432x288 with 1 Axes>"
      ]
     },
     "metadata": {
      "needs_background": "light"
     },
     "output_type": "display_data"
    }
   ],
   "source": [
    "plt.hist(cpu_data[\"Hard Drive Size (in GB)\"], edgecolor = \"white\", color = \"blue\", bins = 5)\n",
    "plt.title(\"Hard Drive Size (GB)\")\n",
    "plt.xlabel(\"GB range\")\n",
    "plt.ylabel(\"Count\")"
   ]
  }
 ],
 "metadata": {
  "kernelspec": {
   "display_name": "Python 3 (ipykernel)",
   "language": "python",
   "name": "python3"
  },
  "language_info": {
   "codemirror_mode": {
    "name": "ipython",
    "version": 3
   },
   "file_extension": ".py",
   "mimetype": "text/x-python",
   "name": "python",
   "nbconvert_exporter": "python",
   "pygments_lexer": "ipython3",
   "version": "3.9.12"
  }
 },
 "nbformat": 4,
 "nbformat_minor": 5
}
